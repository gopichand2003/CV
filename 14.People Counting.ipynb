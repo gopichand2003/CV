{
 "cells": [
  {
   "cell_type": "code",
   "execution_count": null,
   "id": "4193a8be-c8e3-4903-8ec1-d93e13a43545",
   "metadata": {},
   "outputs": [],
   "source": [
    "import cv2\n",
    "from google.colab.patches import cv2_imshow\n",
    "import numpy as np\n",
    "import time\n",
    "cls=cv2.CascadeClassifier(cv2.data.haarcascades + 'haarcascade_fullbody.xml')\n",
    "cap=cv2.VideoCapture(\"/content/peoplebg.mp4\")\n",
    "ct=0\n",
    "while cap.isOpened():\n",
    "  time.sleep(0.05)\n",
    "  ret,frame=cap.read()\n",
    "  if not ret:\n",
    "    break\n",
    "  gray=cv2.cvtColor(frame,cv2.COLOR_BGR2GRAY)\n",
    "  class2=cls.detectMultiScale(gray,1.1,3)\n",
    "  for (x,y,w,h) in class2:\n",
    "    cv2.rectangle(frame,(x,y),(x+w,y+h),(0,255,0),3)\n",
    "    ct+=1\n",
    "  cv2_imshow(frame)\n",
    "  print(ct)\n",
    "  ct=0\n",
    "cap.release()\n",
    "cv2.destroyAllWindows()"
   ]
  }
 ],
 "metadata": {
  "kernelspec": {
   "display_name": "Python 3 (ipykernel)",
   "language": "python",
   "name": "python3"
  },
  "language_info": {
   "codemirror_mode": {
    "name": "ipython",
    "version": 3
   },
   "file_extension": ".py",
   "mimetype": "text/x-python",
   "name": "python",
   "nbconvert_exporter": "python",
   "pygments_lexer": "ipython3",
   "version": "3.11.5"
  }
 },
 "nbformat": 4,
 "nbformat_minor": 5
}
