{
 "cells": [
  {
   "cell_type": "code",
   "execution_count": null,
   "id": "d09b658c-4454-4876-9c3c-6bba4ccbdf45",
   "metadata": {},
   "outputs": [],
   "source": [
    "import cv2\n",
    "import numpy as np\n",
    "import os\n",
    "from google.colab.patches import cv2_imshow\n",
    "\n",
    "def calculate_distance(bbox1, bbox2):\n",
    "    center1 = (bbox1[0] + bbox1[2] // 2, bbox1[1] + bbox1[3] // 2)\n",
    "    center2 = (bbox2[0] + bbox2[2] // 2, bbox2[1] + bbox2[3] // 2)\n",
    "    distance = np.sqrt((center1[0] - center2[0])**2 + (center1[1] - center2[1])**2)\n",
    "    return distance\n",
    "\n",
    "def draw_bounding_box(image, bbox, color):\n",
    "    cv2.rectangle(image, (bbox[0], bbox[1]), (bbox[0] + bbox[2], bbox[1] + bbox[3]), color, 2)\n",
    "\n",
    "image_path = '/content/th.jpeg'\n",
    "if not os.path.exists(image_path):\n",
    "    print(f\"Error: Image file '{image_path}' not found.\")\n",
    "else:\n",
    "    image = cv2.imread(image_path)\n",
    "    if image is None:\n",
    "        print(f\"Error: Unable to load image '{image_path}'\")\n",
    "    else:\n",
    "        bbox1 = (100, 50, 200, 150)\n",
    "        bbox2 = (300, 200, 180, 120)\n",
    "        draw_bounding_box(image, bbox1, (0, 255, 0))\n",
    "        draw_bounding_box(image, bbox2, (0, 255, 0))\n",
    "        \n",
    "        distance = calculate_distance(bbox1, bbox2)\n",
    "        if distance <250 :\n",
    "            color = (0, 255, 0)\n",
    "            print(\"Social Distancing\")\n",
    "        else:\n",
    "            color = (0, 0, 255)\n",
    "            print(\"Not maintaining Social Distancing\")\n",
    "        \n",
    "        bbox_combined = (min(bbox1[0], bbox2[0]), min(bbox1[1], bbox2[1]),\n",
    "                         max(bbox1[0] + bbox1[2], bbox2[0] + bbox2[2]) - min(bbox1[0], bbox2[0]),\n",
    "                         max(bbox1[1] + bbox1[3], bbox2[1] + bbox2[3]) - min(bbox1[1], bbox2[1]))\n",
    "        draw_bounding_box(image, bbox_combined, color)\n",
    "        cv2.putText(image, f'Distance: {distance:.2f} pixels', (50, 30), cv2.FONT_HERSHEY_SIMPLEX, 1, (255, 255, 255), 2)\n",
    "        cv2_imshow(image)\n"
   ]
  }
 ],
 "metadata": {
  "kernelspec": {
   "display_name": "Python 3 (ipykernel)",
   "language": "python",
   "name": "python3"
  },
  "language_info": {
   "codemirror_mode": {
    "name": "ipython",
    "version": 3
   },
   "file_extension": ".py",
   "mimetype": "text/x-python",
   "name": "python",
   "nbconvert_exporter": "python",
   "pygments_lexer": "ipython3",
   "version": "3.11.5"
  }
 },
 "nbformat": 4,
 "nbformat_minor": 5
}
